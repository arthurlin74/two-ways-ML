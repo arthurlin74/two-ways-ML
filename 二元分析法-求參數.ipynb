{
 "cells": [
  {
   "cell_type": "code",
   "execution_count": 8,
   "metadata": {},
   "outputs": [
    {
     "name": "stdout",
     "output_type": "stream",
     "text": [
      "apple_price : 200\n",
      "price : 220.00000000000003\n",
      "dapple_price : 1.1\n",
      "dtax : 200.0\n",
      "dapple : 2.2\n",
      "dapple_num : 110.00000000000001\n"
     ]
    }
   ],
   "source": [
    "class MulLayer:\n",
    "    # 乘法順逆向\n",
    "    def __init__(self):\n",
    "        self.x = None\n",
    "        self.y = None\n",
    "    \n",
    "    def forward(self,x,y):\n",
    "        self.x = x\n",
    "        self.y = y\n",
    "        out = x*y\n",
    "        return out\n",
    "    \n",
    "    #偏微分\n",
    "    def backward(self,dout): \n",
    "        dx = dout * self.y\n",
    "        dy = dout * self.x\n",
    "        return dx,dy\n",
    "\n",
    "        return dx, dy   \n",
    "    \n",
    "class AddLayer:\n",
    "    def __init__(self):\n",
    "        pass\n",
    " \n",
    "    def forward(self, x, y):\n",
    "        out = x + y\n",
    "        return out\n",
    " \n",
    "    def backward(self, dout):\n",
    "        dx = dout * 1\n",
    "        dy = dout * 1\n",
    "        return dx, dy   \n",
    "\n",
    "# 假設是個水果攤\n",
    "apple = 100   # 元\n",
    "apple_num =2  # 2顆\n",
    "tax = 1.1     # 營業稅\n",
    "\n",
    "mul_apple_layer = MulLayer()\n",
    "mul_tax_layer = MulLayer()\n",
    "\n",
    "# 第一層\n",
    "apple_price = mul_apple_layer.forward(apple,apple_num)\n",
    "print('apple_price :',apple_price)\n",
    "# 第二層\n",
    "price = mul_tax_layer.forward(apple_price,tax)\n",
    "print('price :',price)\n",
    "\n",
    "# 開始反推\n",
    "dprice = 1.0  #假設稅率是 1.0\n",
    "dapple_price,dtax= mul_tax_layer.backward(dprice)\n",
    "dapple,dapple_num = mul_apple_layer.backward(dapple_price)\n",
    "print('dapple_price :',dapple_price)\n",
    "print('dtax :',dtax)\n",
    "print('dapple :',dapple)\n",
    "print('dapple_num :',dapple_num)\n",
    "\n",
    "#可見回推的參數與原本有些微落差，因為沒計算營業稅"
   ]
  }
 ],
 "metadata": {
  "kernelspec": {
   "display_name": "Python 3",
   "language": "python",
   "name": "python3"
  },
  "language_info": {
   "codemirror_mode": {
    "name": "ipython",
    "version": 3
   },
   "file_extension": ".py",
   "mimetype": "text/x-python",
   "name": "python",
   "nbconvert_exporter": "python",
   "pygments_lexer": "ipython3",
   "version": "3.7.4"
  }
 },
 "nbformat": 4,
 "nbformat_minor": 2
}
